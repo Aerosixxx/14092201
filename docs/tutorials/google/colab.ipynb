{
  "cells": [
    {
      "cell_type": "markdown",
      "source": [
        "# New Section"
      ],
      "metadata": {
        "id": "Fv4etC3ELIXB"
      }
    },
    {
      "cell_type": "markdown",
      "source": [
        "# New Section"
      ],
      "metadata": {
        "id": "siBDHqgjLZC8"
      }
    },
    {
      "cell_type": "markdown",
      "source": [
        "# Markbuster Using Chinese Zodiac"
      ],
      "metadata": {
        "id": "O-42WniJLZtl"
      }
    },
    {
      "cell_type": "code",
      "source": [],
      "metadata": {
        "id": "iwmKNilhL_Tf"
      },
      "execution_count": null,
      "outputs": []
    }
  ],
  "metadata": {
    "colab": {
      "name": "colab.ipynb",
      "provenance": [],
      "gpuType": "T4"
    },
    "kernelspec": {
      "display_name": "Python 3",
      "name": "python3"
    },
    "accelerator": "GPU"
  },
  "nbformat": 4,
  "nbformat_minor": 0
}